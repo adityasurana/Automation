{
 "cells": [
  {
   "cell_type": "code",
   "execution_count": 20,
   "metadata": {},
   "outputs": [
    {
     "name": "stdout",
     "output_type": "stream",
     "text": [
      "Which movie did you watch recently?\n",
      "\n",
      "Reply us!\n",
      ".\n",
      ".\n",
      ".\n",
      ".\n",
      ".\n",
      "#tuesdaymood #TuesdayThoughts #Bollywood #Hollywood #genre \n",
      "#movies #movie #fun\n",
      "\n",
      "\n",
      "Liked by users:-\n",
      "[{'id': '1341718784', 'name': 'HossamH05737478:', 'username': 'ina_tara'}, {'id': '1343350764', 'name': 'samsma86641228:', 'username': 'Thaaratniz'}, {'id': '1343535025', 'name': 'mostafa70312:', 'username': 'arisa_marissa'}, {'id': '836922964637597696', 'name': 'Raushan Yaduvanshi', 'username': 'RaushanTweets'}, {'id': '1009117432999567360', 'name': 'Akash Rokade', 'username': 'techno__lust'}, {'id': '1246000398025945095', 'name': 'Prerna Singh', 'username': 'prerna_singh587'}, {'id': '1271740641077153792', 'name': 'Ankit Kumar Yadav', 'username': 'AnkitKu79791571'}, {'id': '1223550146614456320', 'name': 'Suhana B. Khan', 'username': 'suhanabkhan'}, {'id': '1138693080217989120', 'name': 'Aakash Kotia', 'username': 'KotiaAakash'}, {'id': '1156530701648269312', 'name': 'UIUX Vroo!!', 'username': 'UiuxVroo'}, {'id': '1627172832', 'name': 'Muskan Singhal', 'username': 'muskansinghal_'}, {'id': '1146737872474529792', 'name': 'Nehal sharma', 'username': 'Nehalsh70703621'}, {'id': '811860584559951872', 'name': 'Yogesh Aggarwal', 'username': 'YogeshDev215'}, {'id': '888416576193445888', 'name': 'Rishav Raj', 'username': 'iamrishavraj1'}, {'id': '1205045027988074496', 'name': 'Rupesh rana', 'username': 'ranarupesh123'}, {'id': '247275104', 'name': 'ayushmaan', 'username': 'eshuayushmaan'}, {'id': '2854119797', 'name': \"I'mYamendra\", 'username': 'YSinganjude'}, {'id': '998231573546795009', 'name': 'Prakhar', 'username': 'Prakrastinator'}, {'id': '928584194376290304', 'name': 'Dhanraj Swami', 'username': 'DhanrajSwami143'}, {'id': '2599189903', 'name': 'Rishabh Gupta', 'username': 'baniya_buddy_'}]\n",
      "\n",
      "\n",
      "Retweeted by users:-\n",
      "[{'id': '1341718784', 'name': 'HossamH05737478:', 'username': 'ina_tara'}, {'id': '1343350764', 'name': 'samsma86641228:', 'username': 'Thaaratniz'}, {'id': '1343535025', 'name': 'mostafa70312:', 'username': 'arisa_marissa'}]\n"
     ]
    }
   ],
   "source": [
    "import requests\n",
    "from tweepy import OAuthHandler\n",
    "from tweepy import API\n",
    "import tweepy\n",
    "\n",
    "#Twitter API credentials\n",
    "consumer_key = \"***\"\n",
    "consumer_secret = \"***\"\n",
    "access_token = \"***\"\n",
    "access_token_secret = \"***\"\n",
    "bearer_token = \"***\"\n",
    "\n",
    "auth = OAuthHandler(consumer_key, consumer_secret)\n",
    "auth.set_access_token(access_token, access_token_secret)\n",
    "auth_api = API(auth)\n",
    "auth = tweepy.OAuthHandler(consumer_key, consumer_secret)\n",
    "auth.set_access_token(access_token, access_token_secret)\n",
    "api = tweepy.API(auth)\n",
    "\n",
    "client = tweepy.Client(\n",
    "                        bearer_token = bearer_token,\n",
    "                        consumer_key=consumer_key, \n",
    "                        consumer_secret=consumer_secret, \n",
    "                        access_token=access_token, \n",
    "                        access_token_secret=access_token_secret, \n",
    "                        return_type = requests.Response,\n",
    "                        wait_on_rate_limit=True)\n",
    "\n",
    "\n",
    "url = \"https://twitter.com/geeksforgeeks/status/1272771459249844224\"\n",
    "id = url.split('/')[-1]\n",
    "status = api.get_status(id)\n",
    "# fetching the text attribute\n",
    "text = status.text\n",
    "print(text)\n",
    "print('\\n')\n",
    "likedUsers = client.get_liking_users(id).json()\n",
    "print(\"Liked by users:-\")\n",
    "print(likedUsers['data'])\n",
    "print('\\n')\n",
    "print(\"Retweeted by users:-\")\n",
    "retweetedUsers = client.get_retweeters(id).json()\n",
    "print(retweetedUsers['data'])"
   ]
  },
  {
   "cell_type": "code",
   "execution_count": null,
   "metadata": {},
   "outputs": [],
   "source": []
  }
 ],
 "metadata": {
  "kernelspec": {
   "display_name": "Python 3",
   "language": "python",
   "name": "python3"
  },
  "language_info": {
   "codemirror_mode": {
    "name": "ipython",
    "version": 3
   },
   "file_extension": ".py",
   "mimetype": "text/x-python",
   "name": "python",
   "nbconvert_exporter": "python",
   "pygments_lexer": "ipython3",
   "version": "3.7.3"
  }
 },
 "nbformat": 4,
 "nbformat_minor": 2
}
