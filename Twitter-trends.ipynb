{
 "cells": [
  {
   "cell_type": "markdown",
   "metadata": {},
   "source": [
    "# Notebook on Accessing Twitter"
   ]
  },
  {
   "cell_type": "code",
   "execution_count": null,
   "metadata": {},
   "outputs": [],
   "source": [
    "import pandas as pd"
   ]
  },
  {
   "cell_type": "code",
   "execution_count": null,
   "metadata": {},
   "outputs": [],
   "source": [
    "import pickle\n",
    "import os"
   ]
  },
  {
   "cell_type": "markdown",
   "metadata": {},
   "source": [
    "Here we will create a 'secret_twitter_credential.pkl' file in which our Twitter's Consumer Key, Consumer Secret, Access Token, Access Token Secret will be stored"
   ]
  },
  {
   "cell_type": "markdown",
   "metadata": {},
   "source": [
    "Don't show this file to any one as it contains important info that can access your account, that's why we have not filled the value in Twitter['Consumer Key']=.... But you should fill accordingly to the credentials given to you after creating the twitter app(Creation of twitter app is explained in Readme.md)."
   ]
  },
  {
   "cell_type": "code",
   "execution_count": null,
   "metadata": {},
   "outputs": [],
   "source": [
    "if not os.path.exists('secret_twitter_credential.pkl'):\n",
    "    Twitter={}\n",
    "    Twitter['Consumer Key'] = ''\n",
    "    Twitter['Consumer Secret'] = ''\n",
    "    Twitter['Access Token'] = ''\n",
    "    Twitter['Access Token Secret'] = ''\n",
    "    with open('secret_twitter_credential.pkl','wb') as f:\n",
    "        pickle.dump(Twitter, f)"
   ]
  },
  {
   "cell_type": "markdown",
   "metadata": {},
   "source": [
    "Loading 'secret_twitter_credential.pkl' file:-"
   ]
  },
  {
   "cell_type": "code",
   "execution_count": null,
   "metadata": {},
   "outputs": [],
   "source": [
    "Twitter=pickle.load(open('secret_twitter_credential.pkl','rb'))"
   ]
  },
  {
   "cell_type": "markdown",
   "metadata": {},
   "source": [
    "Install twitter by typing `pip install twitter` in anaconda prompt and then import it"
   ]
  },
  {
   "cell_type": "code",
   "execution_count": null,
   "metadata": {},
   "outputs": [],
   "source": [
    "import twitter\n",
    "\n",
    "auth = twitter.oauth.OAuth(Twitter['Access Token'],\n",
    "                           Twitter['Access Token Secret'],\n",
    "                           Twitter['Consumer Key'],\n",
    "                           Twitter['Consumer Secret'])\n",
    "\n",
    "twitter_api = twitter.Twitter(auth=auth)"
   ]
  },
  {
   "cell_type": "markdown",
   "metadata": {},
   "source": [
    "## Getting the WOE ID for a place of interest"
   ]
  },
  {
   "cell_type": "markdown",
   "metadata": {},
   "source": [
    "Finding the Yahoo! Where On Earth ID for a place you are interested in at:\n",
    "\n",
    "http://woeid.rosselliot.co.nz/\n",
    "\n",
    "Setting `WORLD_WOE_ID` to integer number=1:\n",
    "    \n",
    "</br>\n",
    "\n",
    "Setting `LOCAL_WOE_ID` to integer number below(for me WOE_ID is of jaipur): "
   ]
  },
  {
   "cell_type": "markdown",
   "metadata": {},
   "source": [
    "Twitter track trends using Yahoo! Where On Earth ID for each major location. For the whole world location ID = 1 \n"
   ]
  },
  {
   "cell_type": "code",
   "execution_count": null,
   "metadata": {},
   "outputs": [],
   "source": [
    "WORLD_WOE_ID = 1\n",
    "LOCAL_WOE_ID = 2295401"
   ]
  },
  {
   "cell_type": "markdown",
   "metadata": {},
   "source": [
    "## Retrieving and printing local trends\n",
    "\n",
    "using the twitter API to retrieve trends"
   ]
  },
  {
   "cell_type": "markdown",
   "metadata": {},
   "source": [
    "Using trends.place for the twitter_api object we can get the top 50 trends for any location"
   ]
  },
  {
   "cell_type": "code",
   "execution_count": null,
   "metadata": {},
   "outputs": [],
   "source": [
    "local_trends = twitter_api.trends.place(_id=LOCAL_WOE_ID)\n",
    "world_trends = twitter_api.trends.place(_id=WORLD_WOE_ID)"
   ]
  },
  {
   "cell_type": "code",
   "execution_count": null,
   "metadata": {},
   "outputs": [],
   "source": [
    "local_trends"
   ]
  },
  {
   "cell_type": "code",
   "execution_count": null,
   "metadata": {},
   "outputs": [],
   "source": [
    "world_trends"
   ]
  },
  {
   "cell_type": "code",
   "execution_count": null,
   "metadata": {},
   "outputs": [],
   "source": [
    "list_of_trends_world = [trend[\"name\"] for trend in world_trends[0]['trends']]"
   ]
  },
  {
   "cell_type": "markdown",
   "metadata": {},
   "source": [
    "Displaying trending in twitter for whole world (top 50)"
   ]
  },
  {
   "cell_type": "code",
   "execution_count": null,
   "metadata": {},
   "outputs": [],
   "source": [
    "list_of_trends_world"
   ]
  },
  {
   "cell_type": "code",
   "execution_count": null,
   "metadata": {},
   "outputs": [],
   "source": [
    "list_of_trends = [trend[\"name\"] for trend in local_trends[0]['trends']]"
   ]
  },
  {
   "cell_type": "markdown",
   "metadata": {},
   "source": [
    "Displaying trending in twitter for jaipur(top 50)"
   ]
  },
  {
   "cell_type": "code",
   "execution_count": null,
   "metadata": {},
   "outputs": [],
   "source": [
    "list_of_trends"
   ]
  },
  {
   "cell_type": "markdown",
   "metadata": {},
   "source": [
    "## Collecting search results\n",
    "\n",
    "Now we are executing a search on Twitter for the most popular trend and filtering step to remove duplicate results.\n",
    "\n",
    "Setting the `topic_in_world` variable to the most popular trend in the list we retrieved in list_of_trends_world:-"
   ]
  },
  {
   "cell_type": "code",
   "execution_count": null,
   "metadata": {},
   "outputs": [],
   "source": [
    "topic_in_world = list_of_trends_world[0] # 1st element in list_of_trends_world\n",
    "number = 100  #number of records you want to get, here=100\n",
    "\n",
    "search_results_in_world = twitter_api.search.tweets(q=topic_in_world, count=number)\n",
    "\n",
    "statuses_in_world = search_results_in_world['statuses']"
   ]
  },
  {
   "cell_type": "markdown",
   "metadata": {},
   "source": [
    "Getting the bunch of records for each tweet in JSON format:- "
   ]
  },
  {
   "cell_type": "code",
   "execution_count": null,
   "metadata": {},
   "outputs": [],
   "source": [
    "statuses_in_world"
   ]
  },
  {
   "cell_type": "markdown",
   "metadata": {},
   "source": [
    "twitter often returns duplicate records, we will filter them out checking for duplicate texts"
   ]
  },
  {
   "cell_type": "code",
   "execution_count": null,
   "metadata": {},
   "outputs": [],
   "source": [
    "all_text_in_world = []\n",
    "filtered_statuses_in_world = []\n",
    "for s in statuses_in_world:\n",
    "    if not s[\"text\"] in all_text_in_world:\n",
    "        filtered_statuses_in_world.append(s)\n",
    "        all_text_in_world.append(s[\"text\"])\n",
    "len(filtered_statuses_in_world)"
   ]
  },
  {
   "cell_type": "markdown",
   "metadata": {},
   "source": [
    "This mean from 100(number) record 14 were duplicates 100-14=86"
   ]
  },
  {
   "cell_type": "markdown",
   "metadata": {},
   "source": [
    "Now we are executing a search on Twitter for the most popular trend and filtering step to remove duplicate results.\n",
    "\n",
    "Setting the `topic` variable to the most popular trend in the list we retrieved in list_of_trends:-"
   ]
  },
  {
   "cell_type": "code",
   "execution_count": null,
   "metadata": {},
   "outputs": [],
   "source": [
    "topic = list_of_trends[0]  # 1st element in list_of_trends\n",
    "number = 100   #number of records you want to get, here=100\n",
    "\n",
    "search_results = twitter_api.search.tweets(q=topic, count=number)\n",
    "\n",
    "statuses = search_results['statuses']"
   ]
  },
  {
   "cell_type": "code",
   "execution_count": null,
   "metadata": {
    "scrolled": false
   },
   "outputs": [],
   "source": [
    "#print(statuses)   #it will print all the metadata(bunch of record in JSON format) of the topic trend"
   ]
  },
  {
   "cell_type": "markdown",
   "metadata": {},
   "source": [
    "twitter often returns duplicate records, we will filter them out checking for duplicate text smiliarly as done above"
   ]
  },
  {
   "cell_type": "code",
   "execution_count": null,
   "metadata": {},
   "outputs": [],
   "source": [
    "all_text = []\n",
    "filtered_statuses = []\n",
    "for s in statuses:\n",
    "    if not s[\"text\"] in all_text:\n",
    "        filtered_statuses.append(s)\n",
    "        all_text.append(s[\"text\"])\n",
    "len(filtered_statuses)"
   ]
  },
  {
   "cell_type": "markdown",
   "metadata": {},
   "source": [
    "This mean from 100(number) record 21 were duplicates 100-21=79"
   ]
  },
  {
   "cell_type": "markdown",
   "metadata": {},
   "source": [
    "## Creating a list of retweet count and status tuples\n",
    "\n",
    "We want to sort the tweets by the retweet count, therefore the first step is to create a list of tuples where the first element is the retweet count and then use the `sorted` function to perform the sorting operation."
   ]
  },
  {
   "cell_type": "code",
   "execution_count": null,
   "metadata": {},
   "outputs": [],
   "source": [
    "retweets_world = [(s[\"retweet_count\"], s[\"text\"]) for s in filtered_statuses_in_world]\n",
    "retweets = [(s[\"retweet_count\"], s[\"text\"]) for s in filtered_statuses]"
   ]
  },
  {
   "cell_type": "code",
   "execution_count": null,
   "metadata": {},
   "outputs": [],
   "source": [
    "popular_tweets_world = sorted(retweets_world, reverse=True)[:10] #10 most popular or first 10\n",
    "popular_tweets = sorted(retweets, reverse=True)[:10] "
   ]
  },
  {
   "cell_type": "markdown",
   "metadata": {},
   "source": [
    "10 most popular retweets in world:-"
   ]
  },
  {
   "cell_type": "code",
   "execution_count": null,
   "metadata": {},
   "outputs": [],
   "source": [
    "popular_tweets_world"
   ]
  },
  {
   "cell_type": "markdown",
   "metadata": {},
   "source": [
    "10 most popular retweets for local area(jaipur):-"
   ]
  },
  {
   "cell_type": "code",
   "execution_count": null,
   "metadata": {},
   "outputs": [],
   "source": [
    "popular_tweets"
   ]
  },
  {
   "cell_type": "code",
   "execution_count": null,
   "metadata": {},
   "outputs": [],
   "source": []
  }
 ],
 "metadata": {
  "kernelspec": {
   "display_name": "Python 3",
   "language": "python",
   "name": "python3"
  },
  "language_info": {
   "codemirror_mode": {
    "name": "ipython",
    "version": 3
   },
   "file_extension": ".py",
   "mimetype": "text/x-python",
   "name": "python",
   "nbconvert_exporter": "python",
   "pygments_lexer": "ipython3",
   "version": "3.7.3"
  }
 },
 "nbformat": 4,
 "nbformat_minor": 2
}
